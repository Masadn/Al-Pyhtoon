{
  "nbformat": 4,
  "nbformat_minor": 0,
  "metadata": {
    "colab": {
      "name": "Untitled0.ipynb",
      "provenance": [],
      "authorship_tag": "ABX9TyO0gKvYp1yVC7b5xFZUC70b",
      "include_colab_link": true
    },
    "kernelspec": {
      "name": "python3",
      "display_name": "Python 3"
    }
  },
  "cells": [
    {
      "cell_type": "markdown",
      "metadata": {
        "id": "view-in-github",
        "colab_type": "text"
      },
      "source": [
        "<a href=\"https://colab.research.google.com/github/Masadn/Al-Pyhtoon/blob/master/Untitled0.ipynb\" target=\"_parent\"><img src=\"https://colab.research.google.com/assets/colab-badge.svg\" alt=\"Open In Colab\"/></a>"
      ]
    },
    {
      "cell_type": "code",
      "metadata": {
        "id": "JqH0vMC-WVvd"
      },
      "source": [
        "import torch                                        # root package\r\n"
      ],
      "execution_count": null,
      "outputs": []
    },
    {
      "cell_type": "code",
      "metadata": {
        "id": "BLXkXijmXUgT",
        "colab": {
          "base_uri": "https://localhost:8080/"
        },
        "outputId": "fba30c31-3b4f-4af6-f9b4-055cec92888a"
      },
      "source": [
        "print(\"print out the PyTorch version :\" , torch.__version__ )"
      ],
      "execution_count": 4,
      "outputs": [
        {
          "output_type": "stream",
          "text": [
            "print out the PyTorch version : 1.7.0+cu101\n"
          ],
          "name": "stdout"
        }
      ]
    },
    {
      "cell_type": "code",
      "metadata": {
        "id": "NQ1G-6VNn8ys"
      },
      "source": [
        "import PIL"
      ],
      "execution_count": 6,
      "outputs": []
    },
    {
      "cell_type": "code",
      "metadata": {
        "colab": {
          "base_uri": "https://localhost:8080/"
        },
        "id": "mKI3_iqzn_V0",
        "outputId": "cd58ca38-50c0-4852-975b-bcfed3123577"
      },
      "source": [
        "print(\"current PIL version :\", PIL.__version__)"
      ],
      "execution_count": 9,
      "outputs": [
        {
          "output_type": "stream",
          "text": [
            "current PIL version : 7.0.0\n"
          ],
          "name": "stdout"
        }
      ]
    },
    {
      "cell_type": "code",
      "metadata": {
        "id": "EltFyj_boTZf"
      },
      "source": [
        "import time\r\n",
        "import json\r\n",
        "import copy\r\n",
        "import numpy as np\r\n",
        "import torch\r\n",
        "from PIL import Image\r\n",
        "import torch.nn.functional as F\r\n",
        "from torch import nn, optim\r\n",
        "from torch.optim import lr_scheduler\r\n",
        "from torchvision import transforms,models,datasets\r\n"
      ],
      "execution_count": 14,
      "outputs": []
    },
    {
      "cell_type": "code",
      "metadata": {
        "id": "PquYJNsJqu-N"
      },
      "source": [
        ""
      ],
      "execution_count": null,
      "outputs": []
    }
  ]
}